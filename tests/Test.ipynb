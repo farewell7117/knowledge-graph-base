{
 "cells": [
  {
   "cell_type": "code",
   "execution_count": null,
   "metadata": {},
   "outputs": [],
   "source": []
  },
  {
   "cell_type": "code",
   "execution_count": 5,
   "metadata": {},
   "outputs": [],
   "source": [
    "from dgl.data import citation_graph as citegrh\n",
    "def load_cora_data():\n",
    "    data = citegrh.load_cora()\n",
    "    features = th.FloatTensor(data.features)\n",
    "    labels = th.LongTensor(data.labels)\n",
    "    mask = th.ByteTensor(data.train_mask)\n",
    "    g = DGLGraph(data.graph)\n",
    "    return g, features, labels, mask"
   ]
  },
  {
   "cell_type": "code",
   "execution_count": 6,
   "metadata": {},
   "outputs": [
    {
     "name": "stdout",
     "output_type": "stream",
     "text": [
      "Downloading /home/denis/.dgl/cora.zip from https://s3.us-east-2.amazonaws.com/dgl.ai/dataset/cora_raw.zip...\n",
      "Extracting file to /home/denis/.dgl/cora\n"
     ]
    },
    {
     "name": "stderr",
     "output_type": "stream",
     "text": [
      "/home/denis/anaconda3/lib/python3.6/site-packages/dgl/base.py:18: UserWarning: Initializer is not set. Use zero initializer instead. To suppress this warning, use `set_initializer` to explicitly specify which initializer to use.\n",
      "  warnings.warn(msg)\n",
      "/home/denis/anaconda3/lib/python3.6/site-packages/numpy/core/fromnumeric.py:2920: RuntimeWarning: Mean of empty slice.\n",
      "  out=out, **kwargs)\n",
      "/home/denis/anaconda3/lib/python3.6/site-packages/numpy/core/_methods.py:85: RuntimeWarning: invalid value encountered in double_scalars\n",
      "  ret = ret.dtype.type(ret / rcount)\n"
     ]
    },
    {
     "name": "stdout",
     "output_type": "stream",
     "text": [
      "Epoch 00000 | Loss 1.9789 | Time(s) nan\n",
      "Epoch 00001 | Loss 1.9667 | Time(s) nan\n",
      "Epoch 00002 | Loss 1.9569 | Time(s) nan\n",
      "Epoch 00003 | Loss 1.9475 | Time(s) 0.1321\n",
      "Epoch 00004 | Loss 1.9380 | Time(s) 0.1498\n",
      "Epoch 00005 | Loss 1.9282 | Time(s) 0.1441\n",
      "Epoch 00006 | Loss 1.9178 | Time(s) 0.1483\n",
      "Epoch 00007 | Loss 1.9069 | Time(s) 0.1502\n",
      "Epoch 00008 | Loss 1.8949 | Time(s) 0.1583\n",
      "Epoch 00009 | Loss 1.8796 | Time(s) 0.1568\n",
      "Epoch 00010 | Loss 1.8620 | Time(s) 0.1611\n",
      "Epoch 00011 | Loss 1.8436 | Time(s) 0.1715\n",
      "Epoch 00012 | Loss 1.8233 | Time(s) 0.1716\n",
      "Epoch 00013 | Loss 1.8020 | Time(s) 0.1705\n",
      "Epoch 00014 | Loss 1.7813 | Time(s) 0.1690\n",
      "Epoch 00015 | Loss 1.7598 | Time(s) 0.1684\n",
      "Epoch 00016 | Loss 1.7381 | Time(s) 0.1668\n",
      "Epoch 00017 | Loss 1.7168 | Time(s) 0.1671\n",
      "Epoch 00018 | Loss 1.6956 | Time(s) 0.1660\n",
      "Epoch 00019 | Loss 1.6747 | Time(s) 0.1662\n",
      "Epoch 00020 | Loss 1.6544 | Time(s) 0.1648\n",
      "Epoch 00021 | Loss 1.6346 | Time(s) 0.1660\n",
      "Epoch 00022 | Loss 1.6154 | Time(s) 0.1643\n",
      "Epoch 00023 | Loss 1.5970 | Time(s) 0.1641\n",
      "Epoch 00024 | Loss 1.5793 | Time(s) 0.1676\n",
      "Epoch 00025 | Loss 1.5620 | Time(s) 0.1672\n",
      "Epoch 00026 | Loss 1.5453 | Time(s) 0.1665\n",
      "Epoch 00027 | Loss 1.5287 | Time(s) 0.1657\n",
      "Epoch 00028 | Loss 1.5124 | Time(s) 0.1650\n",
      "Epoch 00029 | Loss 1.4966 | Time(s) 0.1640\n"
     ]
    }
   ],
   "source": [
    "import time\n",
    "import numpy as np\n",
    "g, features, labels, mask = load_cora_data()\n",
    "optimizer = th.optim.Adam(net.parameters(), lr=1e-3)\n",
    "dur = []\n",
    "for epoch in range(30):\n",
    "    if epoch >=3:\n",
    "        t0 = time.time()\n",
    "\n",
    "    logits = net(g, features)\n",
    "    logp = F.log_softmax(logits, 1)\n",
    "    loss = F.nll_loss(logp[mask], labels[mask])\n",
    "\n",
    "    optimizer.zero_grad()\n",
    "    loss.backward()\n",
    "    optimizer.step()\n",
    "\n",
    "    if epoch >=3:\n",
    "        dur.append(time.time() - t0)\n",
    "\n",
    "    print(\"Epoch {:05d} | Loss {:.4f} | Time(s) {:.4f}\".format(\n",
    "            epoch, loss.item(), np.mean(dur)))"
   ]
  },
  {
   "cell_type": "code",
   "execution_count": 11,
   "metadata": {},
   "outputs": [
    {
     "data": {
      "text/plain": [
       "tensor([[0.0846, 0.0000, 1.2577,  ..., 0.0000, 0.0000, 0.1599],\n",
       "        [0.0000, 0.2090, 0.2457,  ..., 0.3950, 0.0000, 0.4532],\n",
       "        [0.0000, 0.2989, 0.6897,  ..., 3.1835, 0.0000, 1.0007],\n",
       "        ...,\n",
       "        [0.0000, 0.3663, 0.1073,  ..., 0.1773, 0.0000, 0.1533],\n",
       "        [0.1012, 0.2010, 0.1759,  ..., 0.2170, 0.0000, 0.1077],\n",
       "        [0.0000, 0.1455, 0.1155,  ..., 0.1047, 0.0000, 0.1760]],\n",
       "       grad_fn=<ReluBackward>)"
      ]
     },
     "execution_count": 11,
     "metadata": {},
     "output_type": "execute_result"
    }
   ],
   "source": [
    "logits"
   ]
  },
  {
   "cell_type": "code",
   "execution_count": null,
   "metadata": {},
   "outputs": [],
   "source": []
  }
 ],
 "metadata": {
  "kernelspec": {
   "display_name": "Python 3",
   "language": "python",
   "name": "python3"
  },
  "language_info": {
   "codemirror_mode": {
    "name": "ipython",
    "version": 3
   },
   "file_extension": ".py",
   "mimetype": "text/x-python",
   "name": "python",
   "nbconvert_exporter": "python",
   "pygments_lexer": "ipython3",
   "version": "3.6.8"
  }
 },
 "nbformat": 4,
 "nbformat_minor": 2
}
