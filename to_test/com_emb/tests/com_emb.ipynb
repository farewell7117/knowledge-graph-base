{
 "cells": [
  {
   "cell_type": "code",
   "execution_count": 1,
   "metadata": {},
   "outputs": [],
   "source": [
    "import numpy as np\n",
    "\n",
    "import torch, torch.nn as nn, torch.autograd as autograd\n",
    "import torch.utils.data\n",
    "from torch.distributions import multivariate_normal"
   ]
  },
  {
   "cell_type": "code",
   "execution_count": 2,
   "metadata": {},
   "outputs": [
    {
     "name": "stdout",
     "output_type": "stream",
     "text": [
      "Number of nodes: 2708\n",
      "Number of walks: 27080\n",
      "Data size (walks*length): 1083200\n",
      "Walking...\n",
      "Training...\n",
      "/usr/local/anaconda3/lib/python3.7/site-packages/smart_open/smart_open_lib.py:398: UserWarning: This function is deprecated, use smart_open.open instead. See the migration notes for details: https://github.com/RaRe-Technologies/smart_open/blob/master/README.rst#migrating-to-the-new-open-function\n",
      "  'See the migration notes for details: %s' % _MIGRATION_NOTES_URL\n"
     ]
    }
   ],
   "source": [
    "!deepwalk --input ../graphsage/cora/cora.adjlist --representation-size 512 --walk-length 40 --output ../graphsage/cora/cora.embeddings"
   ]
  },
  {
   "cell_type": "code",
   "execution_count": 3,
   "metadata": {},
   "outputs": [],
   "source": [
    "def vectorize(row):\n",
    "    return np.array(row.split(\" \")).astype(float)"
   ]
  },
  {
   "cell_type": "code",
   "execution_count": 4,
   "metadata": {},
   "outputs": [
    {
     "name": "stdout",
     "output_type": "stream",
     "text": [
      "Number of nodes: 2708 in 512-dimensional representation\n"
     ]
    }
   ],
   "source": [
    "with open(\"../graphsage/cora/cora.embeddings\", \"r\") as f:\n",
    "    skipgram = f.readlines()\n",
    "    \n",
    "print(\"Number of nodes: {} in {}-dimensional representation\".format(*skipgram.pop(0).split()))\n",
    "\n",
    "dataset = {}\n",
    "for i in range(len(skipgram)):\n",
    "    id, v = skipgram[i].split(\" \", 1)\n",
    "    dataset[int(id)] = vectorize(v)"
   ]
  },
  {
   "cell_type": "code",
   "execution_count": 62,
   "metadata": {},
   "outputs": [],
   "source": [
    "model = nn.Sequential(\n",
    "    nn.Linear(512, 256),\n",
    "    nn.Dropout(0.05),\n",
    "    nn.Linear(256, 128),\n",
    "    nn.Dropout(0.05),\n",
    "    nn.Linear(128, 64),\n",
    "    nn.Dropout(0.05),\n",
    "    nn.ReLU(),\n",
    "    nn.Linear(64, 7),\n",
    "    nn.Softmax()\n",
    ")"
   ]
  },
  {
   "cell_type": "code",
   "execution_count": 6,
   "metadata": {},
   "outputs": [
    {
     "data": {
      "text/plain": [
       "<torch.utils.data.dataloader.DataLoader at 0x11accc128>"
      ]
     },
     "execution_count": 6,
     "metadata": {},
     "output_type": "execute_result"
    }
   ],
   "source": [
    "batch_size = 400\n",
    "train_batch_gen = torch.utils.data.DataLoader(dataset,\n",
    "                                              batch_size=batch_size,\n",
    "                                              shuffle=True,\n",
    "                                              num_workers=1)\n",
    "\n",
    "train_batch_gen"
   ]
  },
  {
   "cell_type": "code",
   "execution_count": 60,
   "metadata": {},
   "outputs": [],
   "source": [
    "def compute_loss(model, X_batch, psi, Sigma):\n",
    "    # Output (X_batch, 7)\n",
    "    logits            = model(X_batch)\n",
    "    print(\"Logits shape: {}\".format(logits.shape))\n",
    "    print(logits[0].sum())\n",
    "    print(logits[:, 0].sum())\n",
    "    # Probabilities (X_batch, 7)\n",
    "    probs             = compute_probs(X_batch, psi, Sigma)\n",
    "    # Gamma\n",
    "    gamma_numerator   = logits * probs.exp()\n",
    "    gamma_denominator = torch.sum(logits * probs.exp(), dim=1, keepdim=True)\n",
    "    gamma             = gamma_numerator / gamma_denominator\n",
    "    print(\"Gamma shape: {}\".format(gamma.shape))\n",
    "    # N\n",
    "    N                 = gamma.sum(dim=0, keepdim=True)\n",
    "    print(\"N shape: {}\".format(N.shape))\n",
    "    print(N)\n",
    "    # Pi\n",
    "    pi                = N / X_batch.size(0)\n",
    "    print(\"Pi shape: {}\".format(pi.shape))\n",
    "    print(pi)\n",
    "    # Psi (mean)\n",
    "    psi               = torch.FloatTensor()\n",
    "    # Sigma (covariance)\n",
    "    Sigma             = torch.FloatTensor()\n",
    "    for k in range(7):\n",
    "        psi_k   = compute_mean_k(N[:, k], gamma[:, k], X_batch)\n",
    "        Sigma_k = compute_cov_k(N[:, k], gamma[:, k], X_batch, psi_k)\n",
    "        psi     = torch.cat((psi, psi_k), dim=0)\n",
    "        Sigma   = torch.cat((Sigma, Sigma_k), dim=0)\n",
    "    print(\"Psi shape: {}\".format(psi.shape))\n",
    "    print(\"Sigma shape: {}\".format(Sigma.shape))\n",
    "    \n",
    "    # return -1 / 7 * \n",
    "    \n",
    "def compute_mean_k(N_k, gamma_k, phi):\n",
    "    return (1 / N_k) * torch.sum(gamma_k.view(-1, 1) * phi, dim=0, keepdim=True)\n",
    "\n",
    "def compute_cov_k(N_k, gamma_k, phi, psi_k):\n",
    "    return (1 / N_k) * torch.sum(gamma_k.view(-1, 1) * (phi - psi_k) * (phi - psi_k), dim=0, keepdim=True)\n",
    "    \n",
    "def compute_probs(X_batch, psi, Sigma):\n",
    "    probs = torch.FloatTensor()\n",
    "    \n",
    "    for psi_k, Sigma_k in list(zip(psi, Sigma)):\n",
    "        # Multivariate Normal       \n",
    "        normal_k = multivariate_normal.MultivariateNormal(psi_k, Sigma_k)\n",
    "        \n",
    "        # Probability (X_batch, 1)\n",
    "        prob_k   = normal_k.log_prob(X_batch).view(X_batch.size()[0], 1)\n",
    "        probs    = torch.cat((probs, prob_k), dim=1)\n",
    "        \n",
    "    return probs"
   ]
  },
  {
   "cell_type": "code",
   "execution_count": 61,
   "metadata": {},
   "outputs": [
    {
     "name": "stdout",
     "output_type": "stream",
     "text": [
      "Epoch: 0\n",
      "Logits shape: torch.Size([400, 7])\n",
      "tensor(1.0000, grad_fn=<SumBackward0>)\n",
      "tensor(51.5924, grad_fn=<SumBackward0>)\n",
      "Gamma shape: torch.Size([400, 7])\n",
      "N shape: torch.Size([1, 7])\n",
      "tensor([[54.5114, 55.0887, 57.4135, 53.4241, 55.4211, 70.6198, 53.5214]],\n",
      "       grad_fn=<SumBackward2>)\n",
      "Pi shape: torch.Size([1, 7])\n",
      "tensor([[0.1363, 0.1377, 0.1435, 0.1336, 0.1386, 0.1765, 0.1338]],\n",
      "       grad_fn=<DivBackward0>)\n",
      "Psi shape: torch.Size([7, 512])\n",
      "Sigma shape: torch.Size([7, 512])\n"
     ]
    },
    {
     "ename": "AttributeError",
     "evalue": "'NoneType' object has no attribute 'backward'",
     "output_type": "error",
     "traceback": [
      "\u001b[0;31m---------------------------------------------------------------------------\u001b[0m",
      "\u001b[0;31mAttributeError\u001b[0m                            Traceback (most recent call last)",
      "\u001b[0;32m<ipython-input-61-859767aa8d54>\u001b[0m in \u001b[0;36m<module>\u001b[0;34m\u001b[0m\n\u001b[1;32m     33\u001b[0m             \u001b[0;31m# Update Sigma\u001b[0m\u001b[0;34m\u001b[0m\u001b[0;34m\u001b[0m\u001b[0;34m\u001b[0m\u001b[0m\n\u001b[1;32m     34\u001b[0m             \u001b[0mloss\u001b[0m \u001b[0;34m=\u001b[0m \u001b[0mcompute_loss\u001b[0m\u001b[0;34m(\u001b[0m\u001b[0mmodel\u001b[0m\u001b[0;34m,\u001b[0m \u001b[0mX_batch\u001b[0m\u001b[0;34m.\u001b[0m\u001b[0mfloat\u001b[0m\u001b[0;34m(\u001b[0m\u001b[0;34m)\u001b[0m\u001b[0;34m,\u001b[0m \u001b[0mtorch\u001b[0m\u001b[0;34m.\u001b[0m\u001b[0mtensor\u001b[0m\u001b[0;34m(\u001b[0m\u001b[0mpsi\u001b[0m\u001b[0;34m)\u001b[0m\u001b[0;34m.\u001b[0m\u001b[0mfloat\u001b[0m\u001b[0;34m(\u001b[0m\u001b[0;34m)\u001b[0m\u001b[0;34m,\u001b[0m \u001b[0mtorch\u001b[0m\u001b[0;34m.\u001b[0m\u001b[0mtensor\u001b[0m\u001b[0;34m(\u001b[0m\u001b[0mSigma\u001b[0m\u001b[0;34m)\u001b[0m\u001b[0;34m.\u001b[0m\u001b[0mfloat\u001b[0m\u001b[0;34m(\u001b[0m\u001b[0;34m)\u001b[0m\u001b[0;34m)\u001b[0m\u001b[0;34m\u001b[0m\u001b[0;34m\u001b[0m\u001b[0m\n\u001b[0;32m---> 35\u001b[0;31m             \u001b[0mloss\u001b[0m\u001b[0;34m.\u001b[0m\u001b[0mbackward\u001b[0m\u001b[0;34m(\u001b[0m\u001b[0;34m)\u001b[0m\u001b[0;34m\u001b[0m\u001b[0;34m\u001b[0m\u001b[0m\n\u001b[0m\u001b[1;32m     36\u001b[0m \u001b[0;34m\u001b[0m\u001b[0m\n\u001b[1;32m     37\u001b[0m             \u001b[0mopt\u001b[0m\u001b[0;34m.\u001b[0m\u001b[0mstep\u001b[0m\u001b[0;34m(\u001b[0m\u001b[0;34m)\u001b[0m\u001b[0;34m\u001b[0m\u001b[0;34m\u001b[0m\u001b[0m\n",
      "\u001b[0;31mAttributeError\u001b[0m: 'NoneType' object has no attribute 'backward'"
     ]
    }
   ],
   "source": [
    "torch.manual_seed(1234)\n",
    "\n",
    "psi = []\n",
    "Sigma = []\n",
    "\n",
    "opt = torch.optim.SGD(model.parameters(), lr=0.1)\n",
    "\n",
    "num_epochs = 10\n",
    "train_loss = []\n",
    "\n",
    "# Initialize Multivariate Gaussian distributions\n",
    "train_batch_gen_iter = iter(train_batch_gen)\n",
    "for i in range(7):\n",
    "    X_batch = next(train_batch_gen_iter)\n",
    "    data    = X_batch.float().numpy()\n",
    "    psi_k   = np.mean(data, axis=0)\n",
    "    Sigma_k = np.cov(data, rowvar=0)\n",
    "    # Ensure that the covariance matrix is positive definite\n",
    "    Sigma_k = np.add(Sigma_k, np.multiply(np.eye(512), 1/7))\n",
    "    # Add k-th distribution to the list\n",
    "    psi.append(psi_k)\n",
    "    Sigma.append(Sigma_k)\n",
    "    # print(\"Psi shape: {}\".format(psi_k.shape))\n",
    "    # print(\"Sigma shape: {}\".format(Sigma_k.shape))\n",
    "\n",
    "for epoch in range(num_epochs):\n",
    "    model.train(True)\n",
    "    \n",
    "    print(\"Epoch: {}\".format(epoch))\n",
    "    \n",
    "    for X_batch in train_batch_gen:    \n",
    "        with autograd.detect_anomaly():\n",
    "            # Update Sigma\n",
    "            loss = compute_loss(model, X_batch.float(), torch.tensor(psi).float(), torch.tensor(Sigma).float())\n",
    "            loss.backward()\n",
    "            \n",
    "            opt.step()\n",
    "            opt.zero_grad()\n",
    "            \n",
    "        train_loss.append(loss.data.cpu().numpy())\n",
    "        \n",
    "    print(\"Training loss (in-iteration): \\t{:.6f}\".format(\n",
    "        np.mean(train_loss[-len(dataset) // batch_size :]))\n",
    "    )"
   ]
  },
  {
   "cell_type": "code",
   "execution_count": null,
   "metadata": {},
   "outputs": [],
   "source": []
  }
 ],
 "metadata": {
  "kernelspec": {
   "display_name": "Python 3",
   "language": "python",
   "name": "python3"
  },
  "language_info": {
   "codemirror_mode": {
    "name": "ipython",
    "version": 3
   },
   "file_extension": ".py",
   "mimetype": "text/x-python",
   "name": "python",
   "nbconvert_exporter": "python",
   "pygments_lexer": "ipython3",
   "version": "3.7.3"
  }
 },
 "nbformat": 4,
 "nbformat_minor": 2
}
