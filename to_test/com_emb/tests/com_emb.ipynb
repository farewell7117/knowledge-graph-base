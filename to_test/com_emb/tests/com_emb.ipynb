{
 "cells": [
  {
   "cell_type": "markdown",
   "metadata": {},
   "source": [
    "# Hierarchical Network Embedding for Community Detection"
   ]
  },
  {
   "cell_type": "markdown",
   "metadata": {},
   "source": [
    "## Imports"
   ]
  },
  {
   "cell_type": "code",
   "execution_count": 47,
   "metadata": {},
   "outputs": [],
   "source": [
    "import numpy as np\n",
    "\n",
    "import torch, torch.nn as nn, torch.autograd as autograd\n",
    "import torch.utils.data\n",
    "from torch.distributions import multivariate_normal\n",
    "# from scipy.stats import multivariate_normal\n",
    "\n",
    "from dgl import DGLGraph\n",
    "from dgl.data import citation_graph as citegrh\n",
    "\n",
    "import networkx as nx\n",
    "\n",
    "import matplotlib.pyplot as plt"
   ]
  },
  {
   "cell_type": "markdown",
   "metadata": {},
   "source": [
    "## Constants"
   ]
  },
  {
   "cell_type": "code",
   "execution_count": 48,
   "metadata": {},
   "outputs": [],
   "source": [
    "K = 7"
   ]
  },
  {
   "cell_type": "markdown",
   "metadata": {},
   "source": [
    "## Utility functions"
   ]
  },
  {
   "cell_type": "code",
   "execution_count": 62,
   "metadata": {},
   "outputs": [],
   "source": [
    "def vectorize(row):\n",
    "    return np.array(row.split(\" \")).astype(float)\n",
    "\n",
    "def skipgram2dict(skipgram):\n",
    "    d = dict(skipgram[i].split(\" \", 1) for i in range(len(skipgram)))\n",
    "    d = {int(num): vectorize(v) for num, v in d.items()}\n",
    "    \n",
    "    return d"
   ]
  },
  {
   "cell_type": "code",
   "execution_count": 38,
   "metadata": {},
   "outputs": [],
   "source": [
    "#!deepwalk --help\n",
    "\n",
    "#!deepwalk --input ../graphsage/cora/cora.adjlist --representation-size 400 --walk-length 40 --output ../graphsage/cora/cora.embeddings"
   ]
  },
  {
   "cell_type": "markdown",
   "metadata": {},
   "source": [
    "## Data preparation"
   ]
  },
  {
   "cell_type": "code",
   "execution_count": 63,
   "metadata": {},
   "outputs": [
    {
     "name": "stdout",
     "output_type": "stream",
     "text": [
      "Number of nodes: 2708 in 400-dimensional representation\n"
     ]
    }
   ],
   "source": [
    "with open(\"../graphsage/cora/cora.embeddings\", \"r\") as f:\n",
    "    skipgram = f.readlines()\n",
    "    \n",
    "print(\"Number of nodes: {} in {}-dimensional representation\".format(*skipgram.pop(0).split()))\n",
    "    \n",
    "dataset = skipgram2dict(skipgram)"
   ]
  },
  {
   "cell_type": "code",
   "execution_count": 134,
   "metadata": {},
   "outputs": [],
   "source": [
    "model = nn.Sequential(\n",
    "    nn.Linear(400, 1024),\n",
    "    nn.Dropout(0.05),\n",
    "    nn.ReLU(),\n",
    "    nn.Linear(1024, 512),\n",
    "    nn.Dropout(0.05),\n",
    "    nn.ReLU(),\n",
    "    nn.Linear(512, 256),\n",
    "    nn.Dropout(0.05),\n",
    "    nn.ReLU(),\n",
    "    nn.Linear(256, 400),\n",
    "    nn.Softmax()\n",
    ")"
   ]
  },
  {
   "cell_type": "code",
   "execution_count": 135,
   "metadata": {},
   "outputs": [],
   "source": [
    "batch_size = 100\n",
    "train_batch_gen  = torch.utils.data.DataLoader(dataset,\n",
    "                                              batch_size=batch_size,\n",
    "                                              shuffle=True,\n",
    "                                              num_workers=1)"
   ]
  },
  {
   "cell_type": "markdown",
   "metadata": {},
   "source": [
    "## [ComE](https://sentic.net/community-embedding.pdf) algorithm"
   ]
  },
  {
   "cell_type": "code",
   "execution_count": 136,
   "metadata": {},
   "outputs": [],
   "source": [
    "eps  = 1e-6\n",
    "beta = 1e-4\n",
    "\n",
    "def compute_loss(model, X_batch, pi, psi, Sigma):\n",
    "    X_batch = model(X_batch)\n",
    "    # Probabilities (X_batch, K)\n",
    "    log_probs         = compute_probs(X_batch, psi, Sigma)\n",
    "    probs             = log_probs.exp()\n",
    "    # Gamma (X_batch, K)\n",
    "    gamma             = compute_gamma(pi, probs)\n",
    "    # N (1, K)\n",
    "    N                 = gamma.sum(dim=0, keepdim=True)\n",
    "    # Pi (1, K)\n",
    "    pi                = N / X_batch.size(0)\n",
    "    # Psi (mean)\n",
    "    psi               = []\n",
    "    # Sigma (covariance)\n",
    "    Sigma             = []\n",
    "    \n",
    "    for k in range(K):\n",
    "        psi_k   = compute_mean_k(N[:, k], gamma[:, k], X_batch)\n",
    "        Sigma_k = compute_cov_k(N[:, k], gamma[:, k], X_batch, psi_k)\n",
    "        \n",
    "        psi.append(psi_k.view(X_batch.size()[1]))\n",
    "        Sigma.append(torch.diagflat(Sigma_k))\n",
    "    \n",
    "    loss = -(beta / K) * torch.sum(torch.sum(pi * log_probs, dim=1, keepdim=True))\n",
    "    print(loss)\n",
    "    \n",
    "    return pi, psi, Sigma, loss\n",
    "\n",
    "def compute_probs(X_batch, psi, Sigma):\n",
    "    probs = torch.FloatTensor()\n",
    "    \n",
    "    for psi_k, Sigma_k in list(zip(psi, Sigma)):\n",
    "        normal_k = multivariate_normal.MultivariateNormal(psi_k, Sigma_k)\n",
    "        # Probability (X_batch, 1)\n",
    "        prob_k   = normal_k.log_prob(X_batch).view(X_batch.size()[0], 1)\n",
    "        prob_k   = torch.clamp(prob_k, max=0.)\n",
    "        probs    = torch.cat((probs, prob_k), dim=1)\n",
    "        \n",
    "    return probs\n",
    "\n",
    "def compute_gamma(pi, probs):\n",
    "    gamma_numerator   = pi * probs + eps\n",
    "    gamma_denominator = torch.sum(gamma_numerator, dim=1, keepdim=True)\n",
    "    \n",
    "    return torch.div(gamma_numerator, gamma_denominator)\n",
    "    \n",
    "def compute_mean_k(N_k, gamma_k, X_batch):\n",
    "    return (1 / N_k) * torch.sum(gamma_k.view(-1, 1) * X_batch, dim=0, keepdim=True)\n",
    "\n",
    "def compute_cov_k(N_k, gamma_k, X_batch, psi_k):\n",
    "    return (1 / N_k) * torch.sum(gamma_k.view(-1, 1) * (X_batch - psi_k) * (X_batch - psi_k), dim=0, keepdim=True) + eps\n",
    "\n",
    "def set_pi(X_batch):\n",
    "    row_count = X_batch.size(0)\n",
    "    \n",
    "    return torch.ones(row_count, K) / K\n",
    "\n",
    "def reset_mean(X_batch):\n",
    "    data    = X_batch.numpy()\n",
    "    psi_k   = np.mean(data, axis=0)\n",
    "    psi_k   = torch.tensor(psi_k, dtype=torch.float, requires_grad=True)\n",
    "    \n",
    "    return psi_k\n",
    "\n",
    "def reset_cov(X_batch):\n",
    "    data    = X_batch.numpy()\n",
    "    Sigma_k = np.cov(data, rowvar=False)\n",
    "    # Ensure that the covariance matrix is positive semi-definite\n",
    "    Sigma_k = np.add(Sigma_k, np.eye(400) * eps)\n",
    "    Sigma_k = torch.tensor(Sigma_k, dtype=torch.float, requires_grad=True)\n",
    "    \n",
    "    return Sigma_k"
   ]
  },
  {
   "cell_type": "code",
   "execution_count": 137,
   "metadata": {},
   "outputs": [
    {
     "name": "stdout",
     "output_type": "stream",
     "text": [
      "Epoch: 0\n",
      "tensor(1072.7465, grad_fn=<MulBackward0>)\n",
      "tensor(-0., grad_fn=<MulBackward0>)\n",
      "tensor(-0., grad_fn=<MulBackward0>)\n",
      "tensor(-0., grad_fn=<MulBackward0>)\n",
      "tensor(-0., grad_fn=<MulBackward0>)\n",
      "tensor(-0., grad_fn=<MulBackward0>)\n",
      "tensor(-0., grad_fn=<MulBackward0>)\n",
      "tensor(-0., grad_fn=<MulBackward0>)\n",
      "tensor(-0., grad_fn=<MulBackward0>)\n",
      "tensor(-0., grad_fn=<MulBackward0>)\n",
      "tensor(-0., grad_fn=<MulBackward0>)\n",
      "tensor(-0., grad_fn=<MulBackward0>)\n",
      "tensor(-0., grad_fn=<MulBackward0>)\n",
      "tensor(-0., grad_fn=<MulBackward0>)\n",
      "tensor(-0., grad_fn=<MulBackward0>)\n",
      "tensor(-0., grad_fn=<MulBackward0>)\n",
      "tensor(-0., grad_fn=<MulBackward0>)\n",
      "tensor(-0., grad_fn=<MulBackward0>)\n",
      "tensor(-0., grad_fn=<MulBackward0>)\n",
      "tensor(-0., grad_fn=<MulBackward0>)\n",
      "tensor(-0., grad_fn=<MulBackward0>)\n",
      "tensor(-0., grad_fn=<MulBackward0>)\n",
      "tensor(-0., grad_fn=<MulBackward0>)\n",
      "tensor(-0., grad_fn=<MulBackward0>)\n",
      "tensor(-0., grad_fn=<MulBackward0>)\n",
      "tensor(-0., grad_fn=<MulBackward0>)\n",
      "tensor(-0., grad_fn=<MulBackward0>)\n",
      "tensor(-0., grad_fn=<MulBackward0>)\n",
      "Training loss (in-iteration): \t38.312374\n"
     ]
    },
    {
     "data": {
      "text/plain": [
       "Sequential(\n",
       "  (0): Linear(in_features=400, out_features=1024, bias=True)\n",
       "  (1): Dropout(p=0.05)\n",
       "  (2): ReLU()\n",
       "  (3): Linear(in_features=1024, out_features=512, bias=True)\n",
       "  (4): Dropout(p=0.05)\n",
       "  (5): ReLU()\n",
       "  (6): Linear(in_features=512, out_features=256, bias=True)\n",
       "  (7): Dropout(p=0.05)\n",
       "  (8): ReLU()\n",
       "  (9): Linear(in_features=256, out_features=400, bias=True)\n",
       "  (10): Softmax()\n",
       ")"
      ]
     },
     "execution_count": 137,
     "metadata": {},
     "output_type": "execute_result"
    }
   ],
   "source": [
    "torch.manual_seed(1234)\n",
    "\n",
    "pi    = None\n",
    "psi   = []\n",
    "Sigma = []\n",
    "\n",
    "num_epochs = 1\n",
    "train_loss = []\n",
    "\n",
    "opt = torch.optim.SGD(model.parameters(), lr=0.025, momentum=0.5)\n",
    "\n",
    "train_batch_gen_iter = iter(train_batch_gen)\n",
    "\n",
    "for i in range(K):\n",
    "    X_batch = next(train_batch_gen_iter)\n",
    "    psi_k   = reset_mean(X_batch.float())\n",
    "    Sigma_k = reset_cov(X_batch.float())\n",
    "    \n",
    "    psi.append(psi_k)\n",
    "    Sigma.append(Sigma_k)\n",
    "\n",
    "for epoch in range(num_epochs):\n",
    "    model.train(True)\n",
    "    \n",
    "    print(\"Epoch: {}\".format(epoch))\n",
    "    \n",
    "    for X_batch in train_batch_gen:\n",
    "        if pi is None:\n",
    "            pi = set_pi(X_batch.float())\n",
    "        \n",
    "        with autograd.detect_anomaly():\n",
    "            # Update mean, cov\n",
    "            pi, psi, Sigma, loss = compute_loss(model, X_batch.float(), pi, psi, Sigma)\n",
    "            loss.backward(retain_graph=True)\n",
    "            \n",
    "            opt.step()\n",
    "            opt.zero_grad()\n",
    "            \n",
    "        train_loss.append(loss.data.cpu().numpy())\n",
    "        \n",
    "    print(\"Training loss (in-iteration): \\t{:.6f}\".format(\n",
    "        np.mean(train_loss[-len(dataset) // train_batch_size :]))\n",
    "    )\n",
    "\n",
    "model.train(False)"
   ]
  },
  {
   "cell_type": "markdown",
   "metadata": {},
   "source": [
    "## Expirements"
   ]
  },
  {
   "cell_type": "code",
   "execution_count": 138,
   "metadata": {},
   "outputs": [],
   "source": [
    "result = []\n",
    "\n",
    "e = list(dataset.values())\n",
    "x = model(torch.tensor(e).float())\n",
    "\n",
    "log_probs       = compute_probs(x, psi, Sigma)\n",
    "values, indices = (pi * log_probs.exp()).max(1)\n",
    "result          = np.append(result, indices)"
   ]
  },
  {
   "cell_type": "code",
   "execution_count": 139,
   "metadata": {},
   "outputs": [
    {
     "name": "stdout",
     "output_type": "stream",
     "text": [
      "0 0 0 0 0 0 2708\n"
     ]
    }
   ],
   "source": [
    "print(np.sum(result==0),\n",
    "      np.sum(result==1),\n",
    "      np.sum(result==2),\n",
    "      np.sum(result==3),\n",
    "      np.sum(result==4),\n",
    "      np.sum(result==5),\n",
    "      np.sum(result==6))"
   ]
  },
  {
   "cell_type": "code",
   "execution_count": 102,
   "metadata": {},
   "outputs": [],
   "source": [
    "data = citegrh.load_cora()\n",
    "G = DGLGraph(data.graph)\n",
    "kn = G.to_networkx()"
   ]
  },
  {
   "cell_type": "code",
   "execution_count": 103,
   "metadata": {},
   "outputs": [
    {
     "data": {
      "image/png": "[encoded data removed]",
      "text/plain": [
       "<Figure size 432x288 with 1 Axes>"
      ]
     },
     "metadata": {
      "needs_background": "light"
     },
     "output_type": "display_data"
    }
   ],
   "source": [
    "pos = nx.spring_layout(kn)\n",
    "nc = nx.draw_networkx_nodes(kn, pos, nodelist=kn.nodes(), node_color=result,\n",
    "                            with_labels=False, node_size=1, cmap=plt.cm.jet)"
   ]
  },
  {
   "cell_type": "code",
   "execution_count": null,
   "metadata": {},
   "outputs": [],
   "source": []
  }
 ],
 "metadata": {
  "kernelspec": {
   "display_name": "Python 3",
   "language": "python",
   "name": "python3"
  },
  "language_info": {
   "codemirror_mode": {
    "name": "ipython",
    "version": 3
   },
   "file_extension": ".py",
   "mimetype": "text/x-python",
   "name": "python",
   "nbconvert_exporter": "python",
   "pygments_lexer": "ipython3",
   "version": "3.7.3"
  }
 },
 "nbformat": 4,
 "nbformat_minor": 2
}
